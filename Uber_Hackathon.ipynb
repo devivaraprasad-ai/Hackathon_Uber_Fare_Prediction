{
 "cells": [
  {
   "cell_type": "markdown",
   "metadata": {},
   "source": [
    "### Load the libraries"
   ]
  },
  {
   "cell_type": "code",
   "execution_count": 1,
   "metadata": {},
   "outputs": [],
   "source": [
    "from IPython.core.interactiveshell import InteractiveShell\n",
    "InteractiveShell.ast_node_interactivity='all'\n",
    "\n",
    "import warnings\n",
    "warnings.filterwarnings('ignore')\n",
    "\n",
    "import numpy as np\n",
    "import pandas as pd\n",
    "import matplotlib.pyplot as plt\n",
    "import seaborn as sns\n",
    "%matplotlib inline\n",
    "\n",
    "sns.set_style(style='whitegrid')\n",
    "plt.style.use('fivethirtyeight')"
   ]
  },
  {
   "cell_type": "markdown",
   "metadata": {},
   "source": [
    "### Load the dataset"
   ]
  },
  {
   "cell_type": "code",
   "execution_count": 288,
   "metadata": {},
   "outputs": [],
   "source": [
    "data=pd.read_csv(r'C:\\Users\\Devi Vara Prasad\\Desktop\\Innomatics\\Projects\\Uber-Hackathon\\sample_train.csv')"
   ]
  },
  {
   "cell_type": "code",
   "execution_count": 289,
   "metadata": {},
   "outputs": [],
   "source": [
    "data.columns=['Unnamed', 'key', 'fare_amount', 'pickup_datetime',\n",
    "       'pickup_longitude', 'pickup_latitude', 'dropoff_longitude',\n",
    "       'dropoff_latitude', 'passenger_count']"
   ]
  },
  {
   "cell_type": "markdown",
   "metadata": {},
   "source": [
    "### Data Analysis"
   ]
  },
  {
   "cell_type": "code",
   "execution_count": 290,
   "metadata": {},
   "outputs": [
    {
     "data": {
      "text/html": [
       "<div>\n",
       "<style scoped>\n",
       "    .dataframe tbody tr th:only-of-type {\n",
       "        vertical-align: middle;\n",
       "    }\n",
       "\n",
       "    .dataframe tbody tr th {\n",
       "        vertical-align: top;\n",
       "    }\n",
       "\n",
       "    .dataframe thead th {\n",
       "        text-align: right;\n",
       "    }\n",
       "</style>\n",
       "<table border=\"1\" class=\"dataframe\">\n",
       "  <thead>\n",
       "    <tr style=\"text-align: right;\">\n",
       "      <th></th>\n",
       "      <th>Unnamed</th>\n",
       "      <th>key</th>\n",
       "      <th>fare_amount</th>\n",
       "      <th>pickup_datetime</th>\n",
       "      <th>pickup_longitude</th>\n",
       "      <th>pickup_latitude</th>\n",
       "      <th>dropoff_longitude</th>\n",
       "      <th>dropoff_latitude</th>\n",
       "      <th>passenger_count</th>\n",
       "    </tr>\n",
       "  </thead>\n",
       "  <tbody>\n",
       "    <tr>\n",
       "      <td>0</td>\n",
       "      <td>24238194</td>\n",
       "      <td>07-05-2015 19:52</td>\n",
       "      <td>7.5</td>\n",
       "      <td>2015-05-07 19:52:06 UTC</td>\n",
       "      <td>-73.999817</td>\n",
       "      <td>40.738354</td>\n",
       "      <td>-73.999512</td>\n",
       "      <td>40.723217</td>\n",
       "      <td>1</td>\n",
       "    </tr>\n",
       "    <tr>\n",
       "      <td>1</td>\n",
       "      <td>27835199</td>\n",
       "      <td>17-07-2009 20:04</td>\n",
       "      <td>7.7</td>\n",
       "      <td>2009-07-17 20:04:56 UTC</td>\n",
       "      <td>-73.994355</td>\n",
       "      <td>40.728225</td>\n",
       "      <td>-73.994710</td>\n",
       "      <td>40.750325</td>\n",
       "      <td>1</td>\n",
       "    </tr>\n",
       "    <tr>\n",
       "      <td>2</td>\n",
       "      <td>44984355</td>\n",
       "      <td>24-08-2009 21:45</td>\n",
       "      <td>12.9</td>\n",
       "      <td>2009-08-24 21:45:00 UTC</td>\n",
       "      <td>-74.005043</td>\n",
       "      <td>40.740770</td>\n",
       "      <td>-73.962565</td>\n",
       "      <td>40.772647</td>\n",
       "      <td>1</td>\n",
       "    </tr>\n",
       "    <tr>\n",
       "      <td>3</td>\n",
       "      <td>25894730</td>\n",
       "      <td>26-06-2009 08:22</td>\n",
       "      <td>5.3</td>\n",
       "      <td>2009-06-26 08:22:21 UTC</td>\n",
       "      <td>-73.976124</td>\n",
       "      <td>40.790844</td>\n",
       "      <td>-73.965316</td>\n",
       "      <td>40.803349</td>\n",
       "      <td>3</td>\n",
       "    </tr>\n",
       "    <tr>\n",
       "      <td>4</td>\n",
       "      <td>17610152</td>\n",
       "      <td>28-08-2014 17:47</td>\n",
       "      <td>16.0</td>\n",
       "      <td>2014-08-28 17:47:00 UTC</td>\n",
       "      <td>-73.925023</td>\n",
       "      <td>40.744085</td>\n",
       "      <td>-73.973082</td>\n",
       "      <td>40.761247</td>\n",
       "      <td>5</td>\n",
       "    </tr>\n",
       "  </tbody>\n",
       "</table>\n",
       "</div>"
      ],
      "text/plain": [
       "    Unnamed               key  fare_amount          pickup_datetime  \\\n",
       "0  24238194  07-05-2015 19:52          7.5  2015-05-07 19:52:06 UTC   \n",
       "1  27835199  17-07-2009 20:04          7.7  2009-07-17 20:04:56 UTC   \n",
       "2  44984355  24-08-2009 21:45         12.9  2009-08-24 21:45:00 UTC   \n",
       "3  25894730  26-06-2009 08:22          5.3  2009-06-26 08:22:21 UTC   \n",
       "4  17610152  28-08-2014 17:47         16.0  2014-08-28 17:47:00 UTC   \n",
       "\n",
       "   pickup_longitude  pickup_latitude  dropoff_longitude  dropoff_latitude  \\\n",
       "0        -73.999817        40.738354         -73.999512         40.723217   \n",
       "1        -73.994355        40.728225         -73.994710         40.750325   \n",
       "2        -74.005043        40.740770         -73.962565         40.772647   \n",
       "3        -73.976124        40.790844         -73.965316         40.803349   \n",
       "4        -73.925023        40.744085         -73.973082         40.761247   \n",
       "\n",
       "   passenger_count  \n",
       "0                1  \n",
       "1                1  \n",
       "2                1  \n",
       "3                3  \n",
       "4                5  "
      ]
     },
     "execution_count": 290,
     "metadata": {},
     "output_type": "execute_result"
    }
   ],
   "source": [
    "data.head()"
   ]
  },
  {
   "cell_type": "code",
   "execution_count": 291,
   "metadata": {},
   "outputs": [
    {
     "name": "stdout",
     "output_type": "stream",
     "text": [
      "<class 'pandas.core.frame.DataFrame'>\n",
      "RangeIndex: 200000 entries, 0 to 199999\n",
      "Data columns (total 9 columns):\n",
      "Unnamed              200000 non-null int64\n",
      "key                  200000 non-null object\n",
      "fare_amount          200000 non-null float64\n",
      "pickup_datetime      200000 non-null object\n",
      "pickup_longitude     200000 non-null float64\n",
      "pickup_latitude      200000 non-null float64\n",
      "dropoff_longitude    199999 non-null float64\n",
      "dropoff_latitude     199999 non-null float64\n",
      "passenger_count      200000 non-null int64\n",
      "dtypes: float64(5), int64(2), object(2)\n",
      "memory usage: 13.7+ MB\n"
     ]
    }
   ],
   "source": [
    "data.info()"
   ]
  },
  {
   "cell_type": "code",
   "execution_count": 292,
   "metadata": {},
   "outputs": [
    {
     "data": {
      "text/plain": [
       "(200000, 9)"
      ]
     },
     "execution_count": 292,
     "metadata": {},
     "output_type": "execute_result"
    }
   ],
   "source": [
    "data.shape"
   ]
  },
  {
   "cell_type": "code",
   "execution_count": 293,
   "metadata": {},
   "outputs": [
    {
     "data": {
      "text/html": [
       "<div>\n",
       "<style scoped>\n",
       "    .dataframe tbody tr th:only-of-type {\n",
       "        vertical-align: middle;\n",
       "    }\n",
       "\n",
       "    .dataframe tbody tr th {\n",
       "        vertical-align: top;\n",
       "    }\n",
       "\n",
       "    .dataframe thead th {\n",
       "        text-align: right;\n",
       "    }\n",
       "</style>\n",
       "<table border=\"1\" class=\"dataframe\">\n",
       "  <thead>\n",
       "    <tr style=\"text-align: right;\">\n",
       "      <th></th>\n",
       "      <th>Unnamed</th>\n",
       "      <th>fare_amount</th>\n",
       "      <th>pickup_longitude</th>\n",
       "      <th>pickup_latitude</th>\n",
       "      <th>dropoff_longitude</th>\n",
       "      <th>dropoff_latitude</th>\n",
       "      <th>passenger_count</th>\n",
       "    </tr>\n",
       "  </thead>\n",
       "  <tbody>\n",
       "    <tr>\n",
       "      <td>count</td>\n",
       "      <td>2.000000e+05</td>\n",
       "      <td>200000.000000</td>\n",
       "      <td>200000.000000</td>\n",
       "      <td>200000.000000</td>\n",
       "      <td>199999.000000</td>\n",
       "      <td>199999.000000</td>\n",
       "      <td>200000.000000</td>\n",
       "    </tr>\n",
       "    <tr>\n",
       "      <td>mean</td>\n",
       "      <td>2.771250e+07</td>\n",
       "      <td>11.359955</td>\n",
       "      <td>-72.527638</td>\n",
       "      <td>39.935885</td>\n",
       "      <td>-72.525292</td>\n",
       "      <td>39.923890</td>\n",
       "      <td>1.684535</td>\n",
       "    </tr>\n",
       "    <tr>\n",
       "      <td>std</td>\n",
       "      <td>1.601382e+07</td>\n",
       "      <td>9.901776</td>\n",
       "      <td>11.437787</td>\n",
       "      <td>7.720539</td>\n",
       "      <td>13.117408</td>\n",
       "      <td>6.794829</td>\n",
       "      <td>1.385997</td>\n",
       "    </tr>\n",
       "    <tr>\n",
       "      <td>min</td>\n",
       "      <td>1.000000e+00</td>\n",
       "      <td>-52.000000</td>\n",
       "      <td>-1340.648410</td>\n",
       "      <td>-74.015515</td>\n",
       "      <td>-3356.666300</td>\n",
       "      <td>-881.985513</td>\n",
       "      <td>0.000000</td>\n",
       "    </tr>\n",
       "    <tr>\n",
       "      <td>25%</td>\n",
       "      <td>1.382535e+07</td>\n",
       "      <td>6.000000</td>\n",
       "      <td>-73.992065</td>\n",
       "      <td>40.734796</td>\n",
       "      <td>-73.991407</td>\n",
       "      <td>40.733823</td>\n",
       "      <td>1.000000</td>\n",
       "    </tr>\n",
       "    <tr>\n",
       "      <td>50%</td>\n",
       "      <td>2.774550e+07</td>\n",
       "      <td>8.500000</td>\n",
       "      <td>-73.981823</td>\n",
       "      <td>40.752592</td>\n",
       "      <td>-73.980093</td>\n",
       "      <td>40.753042</td>\n",
       "      <td>1.000000</td>\n",
       "    </tr>\n",
       "    <tr>\n",
       "      <td>75%</td>\n",
       "      <td>4.155530e+07</td>\n",
       "      <td>12.500000</td>\n",
       "      <td>-73.967154</td>\n",
       "      <td>40.767158</td>\n",
       "      <td>-73.963658</td>\n",
       "      <td>40.768001</td>\n",
       "      <td>2.000000</td>\n",
       "    </tr>\n",
       "    <tr>\n",
       "      <td>max</td>\n",
       "      <td>5.542357e+07</td>\n",
       "      <td>499.000000</td>\n",
       "      <td>57.418457</td>\n",
       "      <td>1644.421482</td>\n",
       "      <td>1153.572603</td>\n",
       "      <td>872.697628</td>\n",
       "      <td>208.000000</td>\n",
       "    </tr>\n",
       "  </tbody>\n",
       "</table>\n",
       "</div>"
      ],
      "text/plain": [
       "            Unnamed    fare_amount  pickup_longitude  pickup_latitude  \\\n",
       "count  2.000000e+05  200000.000000     200000.000000    200000.000000   \n",
       "mean   2.771250e+07      11.359955        -72.527638        39.935885   \n",
       "std    1.601382e+07       9.901776         11.437787         7.720539   \n",
       "min    1.000000e+00     -52.000000      -1340.648410       -74.015515   \n",
       "25%    1.382535e+07       6.000000        -73.992065        40.734796   \n",
       "50%    2.774550e+07       8.500000        -73.981823        40.752592   \n",
       "75%    4.155530e+07      12.500000        -73.967154        40.767158   \n",
       "max    5.542357e+07     499.000000         57.418457      1644.421482   \n",
       "\n",
       "       dropoff_longitude  dropoff_latitude  passenger_count  \n",
       "count      199999.000000     199999.000000    200000.000000  \n",
       "mean          -72.525292         39.923890         1.684535  \n",
       "std            13.117408          6.794829         1.385997  \n",
       "min         -3356.666300       -881.985513         0.000000  \n",
       "25%           -73.991407         40.733823         1.000000  \n",
       "50%           -73.980093         40.753042         1.000000  \n",
       "75%           -73.963658         40.768001         2.000000  \n",
       "max          1153.572603        872.697628       208.000000  "
      ]
     },
     "execution_count": 293,
     "metadata": {},
     "output_type": "execute_result"
    }
   ],
   "source": [
    "data.describe()"
   ]
  },
  {
   "cell_type": "code",
   "execution_count": 294,
   "metadata": {},
   "outputs": [
    {
     "data": {
      "text/html": [
       "<style  type=\"text/css\" >\n",
       "    #T_26ebc6ee_a263_11ea_9b45_54e1ade9f96drow0_col0 {\n",
       "            background-color:  #023858;\n",
       "            color:  #f1f1f1;\n",
       "        }    #T_26ebc6ee_a263_11ea_9b45_54e1ade9f96drow0_col1 {\n",
       "            background-color:  #fef6fa;\n",
       "            color:  #000000;\n",
       "        }    #T_26ebc6ee_a263_11ea_9b45_54e1ade9f96drow0_col2 {\n",
       "            background-color:  #84b0d3;\n",
       "            color:  #000000;\n",
       "        }    #T_26ebc6ee_a263_11ea_9b45_54e1ade9f96drow0_col3 {\n",
       "            background-color:  #88b1d4;\n",
       "            color:  #000000;\n",
       "        }    #T_26ebc6ee_a263_11ea_9b45_54e1ade9f96drow0_col4 {\n",
       "            background-color:  #7dacd1;\n",
       "            color:  #000000;\n",
       "        }    #T_26ebc6ee_a263_11ea_9b45_54e1ade9f96drow0_col5 {\n",
       "            background-color:  #7dacd1;\n",
       "            color:  #000000;\n",
       "        }    #T_26ebc6ee_a263_11ea_9b45_54e1ade9f96drow0_col6 {\n",
       "            background-color:  #fff7fb;\n",
       "            color:  #000000;\n",
       "        }    #T_26ebc6ee_a263_11ea_9b45_54e1ade9f96drow1_col0 {\n",
       "            background-color:  #fff7fb;\n",
       "            color:  #000000;\n",
       "        }    #T_26ebc6ee_a263_11ea_9b45_54e1ade9f96drow1_col1 {\n",
       "            background-color:  #023858;\n",
       "            color:  #f1f1f1;\n",
       "        }    #T_26ebc6ee_a263_11ea_9b45_54e1ade9f96drow1_col2 {\n",
       "            background-color:  #83afd3;\n",
       "            color:  #000000;\n",
       "        }    #T_26ebc6ee_a263_11ea_9b45_54e1ade9f96drow1_col3 {\n",
       "            background-color:  #8bb2d4;\n",
       "            color:  #000000;\n",
       "        }    #T_26ebc6ee_a263_11ea_9b45_54e1ade9f96drow1_col4 {\n",
       "            background-color:  #7bacd1;\n",
       "            color:  #000000;\n",
       "        }    #T_26ebc6ee_a263_11ea_9b45_54e1ade9f96drow1_col5 {\n",
       "            background-color:  #80aed2;\n",
       "            color:  #000000;\n",
       "        }    #T_26ebc6ee_a263_11ea_9b45_54e1ade9f96drow1_col6 {\n",
       "            background-color:  #fef6fa;\n",
       "            color:  #000000;\n",
       "        }    #T_26ebc6ee_a263_11ea_9b45_54e1ade9f96drow2_col0 {\n",
       "            background-color:  #fff7fb;\n",
       "            color:  #000000;\n",
       "        }    #T_26ebc6ee_a263_11ea_9b45_54e1ade9f96drow2_col1 {\n",
       "            background-color:  #fcf4fa;\n",
       "            color:  #000000;\n",
       "        }    #T_26ebc6ee_a263_11ea_9b45_54e1ade9f96drow2_col2 {\n",
       "            background-color:  #023858;\n",
       "            color:  #f1f1f1;\n",
       "        }    #T_26ebc6ee_a263_11ea_9b45_54e1ade9f96drow2_col3 {\n",
       "            background-color:  #fff7fb;\n",
       "            color:  #000000;\n",
       "        }    #T_26ebc6ee_a263_11ea_9b45_54e1ade9f96drow2_col4 {\n",
       "            background-color:  #034f7d;\n",
       "            color:  #f1f1f1;\n",
       "        }    #T_26ebc6ee_a263_11ea_9b45_54e1ade9f96drow2_col5 {\n",
       "            background-color:  #faf2f8;\n",
       "            color:  #000000;\n",
       "        }    #T_26ebc6ee_a263_11ea_9b45_54e1ade9f96drow2_col6 {\n",
       "            background-color:  #fff7fb;\n",
       "            color:  #000000;\n",
       "        }    #T_26ebc6ee_a263_11ea_9b45_54e1ade9f96drow3_col0 {\n",
       "            background-color:  #fff7fb;\n",
       "            color:  #000000;\n",
       "        }    #T_26ebc6ee_a263_11ea_9b45_54e1ade9f96drow3_col1 {\n",
       "            background-color:  #fff7fb;\n",
       "            color:  #000000;\n",
       "        }    #T_26ebc6ee_a263_11ea_9b45_54e1ade9f96drow3_col2 {\n",
       "            background-color:  #fdf5fa;\n",
       "            color:  #000000;\n",
       "        }    #T_26ebc6ee_a263_11ea_9b45_54e1ade9f96drow3_col3 {\n",
       "            background-color:  #023858;\n",
       "            color:  #f1f1f1;\n",
       "        }    #T_26ebc6ee_a263_11ea_9b45_54e1ade9f96drow3_col4 {\n",
       "            background-color:  #f4eef6;\n",
       "            color:  #000000;\n",
       "        }    #T_26ebc6ee_a263_11ea_9b45_54e1ade9f96drow3_col5 {\n",
       "            background-color:  #045f95;\n",
       "            color:  #f1f1f1;\n",
       "        }    #T_26ebc6ee_a263_11ea_9b45_54e1ade9f96drow3_col6 {\n",
       "            background-color:  #fff7fb;\n",
       "            color:  #000000;\n",
       "        }    #T_26ebc6ee_a263_11ea_9b45_54e1ade9f96drow4_col0 {\n",
       "            background-color:  #fff7fb;\n",
       "            color:  #000000;\n",
       "        }    #T_26ebc6ee_a263_11ea_9b45_54e1ade9f96drow4_col1 {\n",
       "            background-color:  #fcf4fa;\n",
       "            color:  #000000;\n",
       "        }    #T_26ebc6ee_a263_11ea_9b45_54e1ade9f96drow4_col2 {\n",
       "            background-color:  #03517e;\n",
       "            color:  #f1f1f1;\n",
       "        }    #T_26ebc6ee_a263_11ea_9b45_54e1ade9f96drow4_col3 {\n",
       "            background-color:  #fcf4fa;\n",
       "            color:  #000000;\n",
       "        }    #T_26ebc6ee_a263_11ea_9b45_54e1ade9f96drow4_col4 {\n",
       "            background-color:  #023858;\n",
       "            color:  #f1f1f1;\n",
       "        }    #T_26ebc6ee_a263_11ea_9b45_54e1ade9f96drow4_col5 {\n",
       "            background-color:  #fff7fb;\n",
       "            color:  #000000;\n",
       "        }    #T_26ebc6ee_a263_11ea_9b45_54e1ade9f96drow4_col6 {\n",
       "            background-color:  #fff7fb;\n",
       "            color:  #000000;\n",
       "        }    #T_26ebc6ee_a263_11ea_9b45_54e1ade9f96drow5_col0 {\n",
       "            background-color:  #fff7fb;\n",
       "            color:  #000000;\n",
       "        }    #T_26ebc6ee_a263_11ea_9b45_54e1ade9f96drow5_col1 {\n",
       "            background-color:  #fff7fb;\n",
       "            color:  #000000;\n",
       "        }    #T_26ebc6ee_a263_11ea_9b45_54e1ade9f96drow5_col2 {\n",
       "            background-color:  #fff7fb;\n",
       "            color:  #000000;\n",
       "        }    #T_26ebc6ee_a263_11ea_9b45_54e1ade9f96drow5_col3 {\n",
       "            background-color:  #046097;\n",
       "            color:  #f1f1f1;\n",
       "        }    #T_26ebc6ee_a263_11ea_9b45_54e1ade9f96drow5_col4 {\n",
       "            background-color:  #fff7fb;\n",
       "            color:  #000000;\n",
       "        }    #T_26ebc6ee_a263_11ea_9b45_54e1ade9f96drow5_col5 {\n",
       "            background-color:  #023858;\n",
       "            color:  #f1f1f1;\n",
       "        }    #T_26ebc6ee_a263_11ea_9b45_54e1ade9f96drow5_col6 {\n",
       "            background-color:  #fff7fb;\n",
       "            color:  #000000;\n",
       "        }    #T_26ebc6ee_a263_11ea_9b45_54e1ade9f96drow6_col0 {\n",
       "            background-color:  #fff7fb;\n",
       "            color:  #000000;\n",
       "        }    #T_26ebc6ee_a263_11ea_9b45_54e1ade9f96drow6_col1 {\n",
       "            background-color:  #fcf4fa;\n",
       "            color:  #000000;\n",
       "        }    #T_26ebc6ee_a263_11ea_9b45_54e1ade9f96drow6_col2 {\n",
       "            background-color:  #84b0d3;\n",
       "            color:  #000000;\n",
       "        }    #T_26ebc6ee_a263_11ea_9b45_54e1ade9f96drow6_col3 {\n",
       "            background-color:  #89b1d4;\n",
       "            color:  #000000;\n",
       "        }    #T_26ebc6ee_a263_11ea_9b45_54e1ade9f96drow6_col4 {\n",
       "            background-color:  #7dacd1;\n",
       "            color:  #000000;\n",
       "        }    #T_26ebc6ee_a263_11ea_9b45_54e1ade9f96drow6_col5 {\n",
       "            background-color:  #7dacd1;\n",
       "            color:  #000000;\n",
       "        }    #T_26ebc6ee_a263_11ea_9b45_54e1ade9f96drow6_col6 {\n",
       "            background-color:  #023858;\n",
       "            color:  #f1f1f1;\n",
       "        }</style><table id=\"T_26ebc6ee_a263_11ea_9b45_54e1ade9f96d\" ><thead>    <tr>        <th class=\"blank level0\" ></th>        <th class=\"col_heading level0 col0\" >Unnamed</th>        <th class=\"col_heading level0 col1\" >fare_amount</th>        <th class=\"col_heading level0 col2\" >pickup_longitude</th>        <th class=\"col_heading level0 col3\" >pickup_latitude</th>        <th class=\"col_heading level0 col4\" >dropoff_longitude</th>        <th class=\"col_heading level0 col5\" >dropoff_latitude</th>        <th class=\"col_heading level0 col6\" >passenger_count</th>    </tr></thead><tbody>\n",
       "                <tr>\n",
       "                        <th id=\"T_26ebc6ee_a263_11ea_9b45_54e1ade9f96dlevel0_row0\" class=\"row_heading level0 row0\" >Unnamed</th>\n",
       "                        <td id=\"T_26ebc6ee_a263_11ea_9b45_54e1ade9f96drow0_col0\" class=\"data row0 col0\" >1</td>\n",
       "                        <td id=\"T_26ebc6ee_a263_11ea_9b45_54e1ade9f96drow0_col1\" class=\"data row0 col1\" >0.000588893</td>\n",
       "                        <td id=\"T_26ebc6ee_a263_11ea_9b45_54e1ade9f96drow0_col2\" class=\"data row0 col2\" >0.000229708</td>\n",
       "                        <td id=\"T_26ebc6ee_a263_11ea_9b45_54e1ade9f96drow0_col3\" class=\"data row0 col3\" >-0.000340627</td>\n",
       "                        <td id=\"T_26ebc6ee_a263_11ea_9b45_54e1ade9f96drow0_col4\" class=\"data row0 col4\" >0.00026985</td>\n",
       "                        <td id=\"T_26ebc6ee_a263_11ea_9b45_54e1ade9f96drow0_col5\" class=\"data row0 col5\" >0.000271405</td>\n",
       "                        <td id=\"T_26ebc6ee_a263_11ea_9b45_54e1ade9f96drow0_col6\" class=\"data row0 col6\" >0.00225717</td>\n",
       "            </tr>\n",
       "            <tr>\n",
       "                        <th id=\"T_26ebc6ee_a263_11ea_9b45_54e1ade9f96dlevel0_row1\" class=\"row_heading level0 row1\" >fare_amount</th>\n",
       "                        <td id=\"T_26ebc6ee_a263_11ea_9b45_54e1ade9f96drow1_col0\" class=\"data row1 col0\" >0.000588893</td>\n",
       "                        <td id=\"T_26ebc6ee_a263_11ea_9b45_54e1ade9f96drow1_col1\" class=\"data row1 col1\" >1</td>\n",
       "                        <td id=\"T_26ebc6ee_a263_11ea_9b45_54e1ade9f96drow1_col2\" class=\"data row1 col2\" >0.0104573</td>\n",
       "                        <td id=\"T_26ebc6ee_a263_11ea_9b45_54e1ade9f96drow1_col3\" class=\"data row1 col3\" >-0.00848101</td>\n",
       "                        <td id=\"T_26ebc6ee_a263_11ea_9b45_54e1ade9f96drow1_col4\" class=\"data row1 col4\" >0.00898593</td>\n",
       "                        <td id=\"T_26ebc6ee_a263_11ea_9b45_54e1ade9f96drow1_col5\" class=\"data row1 col5\" >-0.0110137</td>\n",
       "                        <td id=\"T_26ebc6ee_a263_11ea_9b45_54e1ade9f96drow1_col6\" class=\"data row1 col6\" >0.0101499</td>\n",
       "            </tr>\n",
       "            <tr>\n",
       "                        <th id=\"T_26ebc6ee_a263_11ea_9b45_54e1ade9f96dlevel0_row2\" class=\"row_heading level0 row2\" >pickup_longitude</th>\n",
       "                        <td id=\"T_26ebc6ee_a263_11ea_9b45_54e1ade9f96drow2_col0\" class=\"data row2 col0\" >0.000229708</td>\n",
       "                        <td id=\"T_26ebc6ee_a263_11ea_9b45_54e1ade9f96drow2_col1\" class=\"data row2 col1\" >0.0104573</td>\n",
       "                        <td id=\"T_26ebc6ee_a263_11ea_9b45_54e1ade9f96drow2_col2\" class=\"data row2 col2\" >1</td>\n",
       "                        <td id=\"T_26ebc6ee_a263_11ea_9b45_54e1ade9f96drow2_col3\" class=\"data row2 col3\" >-0.816461</td>\n",
       "                        <td id=\"T_26ebc6ee_a263_11ea_9b45_54e1ade9f96drow2_col4\" class=\"data row2 col4\" >0.833026</td>\n",
       "                        <td id=\"T_26ebc6ee_a263_11ea_9b45_54e1ade9f96drow2_col5\" class=\"data row2 col5\" >-0.846324</td>\n",
       "                        <td id=\"T_26ebc6ee_a263_11ea_9b45_54e1ade9f96drow2_col6\" class=\"data row2 col6\" >-0.000414386</td>\n",
       "            </tr>\n",
       "            <tr>\n",
       "                        <th id=\"T_26ebc6ee_a263_11ea_9b45_54e1ade9f96dlevel0_row3\" class=\"row_heading level0 row3\" >pickup_latitude</th>\n",
       "                        <td id=\"T_26ebc6ee_a263_11ea_9b45_54e1ade9f96drow3_col0\" class=\"data row3 col0\" >-0.000340627</td>\n",
       "                        <td id=\"T_26ebc6ee_a263_11ea_9b45_54e1ade9f96drow3_col1\" class=\"data row3 col1\" >-0.00848101</td>\n",
       "                        <td id=\"T_26ebc6ee_a263_11ea_9b45_54e1ade9f96drow3_col2\" class=\"data row3 col2\" >-0.816461</td>\n",
       "                        <td id=\"T_26ebc6ee_a263_11ea_9b45_54e1ade9f96drow3_col3\" class=\"data row3 col3\" >1</td>\n",
       "                        <td id=\"T_26ebc6ee_a263_11ea_9b45_54e1ade9f96drow3_col4\" class=\"data row3 col4\" >-0.774787</td>\n",
       "                        <td id=\"T_26ebc6ee_a263_11ea_9b45_54e1ade9f96drow3_col5\" class=\"data row3 col5\" >0.702367</td>\n",
       "                        <td id=\"T_26ebc6ee_a263_11ea_9b45_54e1ade9f96drow3_col6\" class=\"data row3 col6\" >-0.00155984</td>\n",
       "            </tr>\n",
       "            <tr>\n",
       "                        <th id=\"T_26ebc6ee_a263_11ea_9b45_54e1ade9f96dlevel0_row4\" class=\"row_heading level0 row4\" >dropoff_longitude</th>\n",
       "                        <td id=\"T_26ebc6ee_a263_11ea_9b45_54e1ade9f96drow4_col0\" class=\"data row4 col0\" >0.00026985</td>\n",
       "                        <td id=\"T_26ebc6ee_a263_11ea_9b45_54e1ade9f96drow4_col1\" class=\"data row4 col1\" >0.00898593</td>\n",
       "                        <td id=\"T_26ebc6ee_a263_11ea_9b45_54e1ade9f96drow4_col2\" class=\"data row4 col2\" >0.833026</td>\n",
       "                        <td id=\"T_26ebc6ee_a263_11ea_9b45_54e1ade9f96drow4_col3\" class=\"data row4 col3\" >-0.774787</td>\n",
       "                        <td id=\"T_26ebc6ee_a263_11ea_9b45_54e1ade9f96drow4_col4\" class=\"data row4 col4\" >1</td>\n",
       "                        <td id=\"T_26ebc6ee_a263_11ea_9b45_54e1ade9f96drow4_col5\" class=\"data row4 col5\" >-0.91701</td>\n",
       "                        <td id=\"T_26ebc6ee_a263_11ea_9b45_54e1ade9f96drow4_col6\" class=\"data row4 col6\" >3.29049e-05</td>\n",
       "            </tr>\n",
       "            <tr>\n",
       "                        <th id=\"T_26ebc6ee_a263_11ea_9b45_54e1ade9f96dlevel0_row5\" class=\"row_heading level0 row5\" >dropoff_latitude</th>\n",
       "                        <td id=\"T_26ebc6ee_a263_11ea_9b45_54e1ade9f96drow5_col0\" class=\"data row5 col0\" >0.000271405</td>\n",
       "                        <td id=\"T_26ebc6ee_a263_11ea_9b45_54e1ade9f96drow5_col1\" class=\"data row5 col1\" >-0.0110137</td>\n",
       "                        <td id=\"T_26ebc6ee_a263_11ea_9b45_54e1ade9f96drow5_col2\" class=\"data row5 col2\" >-0.846324</td>\n",
       "                        <td id=\"T_26ebc6ee_a263_11ea_9b45_54e1ade9f96drow5_col3\" class=\"data row5 col3\" >0.702367</td>\n",
       "                        <td id=\"T_26ebc6ee_a263_11ea_9b45_54e1ade9f96drow5_col4\" class=\"data row5 col4\" >-0.91701</td>\n",
       "                        <td id=\"T_26ebc6ee_a263_11ea_9b45_54e1ade9f96drow5_col5\" class=\"data row5 col5\" >1</td>\n",
       "                        <td id=\"T_26ebc6ee_a263_11ea_9b45_54e1ade9f96drow5_col6\" class=\"data row5 col6\" >-0.000659282</td>\n",
       "            </tr>\n",
       "            <tr>\n",
       "                        <th id=\"T_26ebc6ee_a263_11ea_9b45_54e1ade9f96dlevel0_row6\" class=\"row_heading level0 row6\" >passenger_count</th>\n",
       "                        <td id=\"T_26ebc6ee_a263_11ea_9b45_54e1ade9f96drow6_col0\" class=\"data row6 col0\" >0.00225717</td>\n",
       "                        <td id=\"T_26ebc6ee_a263_11ea_9b45_54e1ade9f96drow6_col1\" class=\"data row6 col1\" >0.0101499</td>\n",
       "                        <td id=\"T_26ebc6ee_a263_11ea_9b45_54e1ade9f96drow6_col2\" class=\"data row6 col2\" >-0.000414386</td>\n",
       "                        <td id=\"T_26ebc6ee_a263_11ea_9b45_54e1ade9f96drow6_col3\" class=\"data row6 col3\" >-0.00155984</td>\n",
       "                        <td id=\"T_26ebc6ee_a263_11ea_9b45_54e1ade9f96drow6_col4\" class=\"data row6 col4\" >3.29049e-05</td>\n",
       "                        <td id=\"T_26ebc6ee_a263_11ea_9b45_54e1ade9f96drow6_col5\" class=\"data row6 col5\" >-0.000659282</td>\n",
       "                        <td id=\"T_26ebc6ee_a263_11ea_9b45_54e1ade9f96drow6_col6\" class=\"data row6 col6\" >1</td>\n",
       "            </tr>\n",
       "    </tbody></table>"
      ],
      "text/plain": [
       "<pandas.io.formats.style.Styler at 0x25a36859a48>"
      ]
     },
     "execution_count": 294,
     "metadata": {},
     "output_type": "execute_result"
    }
   ],
   "source": [
    "data_corr=data.corr()\n",
    "data_corr.style.background_gradient(cmap='PuBu')\n",
    "# There is no strong correlation amoung target variable and independent variables."
   ]
  },
  {
   "cell_type": "code",
   "execution_count": 295,
   "metadata": {},
   "outputs": [
    {
     "data": {
      "image/png": "[encoded data removed]",
      "text/plain": [
       "<Figure size 1260x1260 with 56 Axes>"
      ]
     },
     "metadata": {
      "needs_background": "light"
     },
     "output_type": "display_data"
    }
   ],
   "source": [
    "sns.pairplot(data);"
   ]
  },
  {
   "cell_type": "markdown",
   "metadata": {},
   "source": [
    "## Handling Missing Values"
   ]
  },
  {
   "cell_type": "code",
   "execution_count": 296,
   "metadata": {},
   "outputs": [
    {
     "name": "stdout",
     "output_type": "stream",
     "text": [
      "Missing values in percentage\n"
     ]
    },
    {
     "data": {
      "text/plain": [
       "Unnamed              0.0000\n",
       "key                  0.0000\n",
       "fare_amount          0.0000\n",
       "pickup_datetime      0.0000\n",
       "pickup_longitude     0.0000\n",
       "pickup_latitude      0.0000\n",
       "dropoff_longitude    0.0005\n",
       "dropoff_latitude     0.0005\n",
       "passenger_count      0.0000\n",
       "dtype: float64"
      ]
     },
     "execution_count": 296,
     "metadata": {},
     "output_type": "execute_result"
    }
   ],
   "source": [
    "print('Missing values in percentage')\n",
    "round(100*data.isnull().sum()/len(data),4)\n",
    "\n",
    "# There are missing values in columns dropoff_longitude, dropoff_latitude\n",
    "# Percentage of missing values is very less we can drop those rows"
   ]
  },
  {
   "cell_type": "code",
   "execution_count": 297,
   "metadata": {},
   "outputs": [],
   "source": [
    "# In the dataset there are few zero values, getting the columns with zero values and their count"
   ]
  },
  {
   "cell_type": "code",
   "execution_count": 298,
   "metadata": {},
   "outputs": [],
   "source": [
    "df = pd.DataFrame((data == 0).sum()).reset_index()\n",
    "df.columns = ['var', 'count']"
   ]
  },
  {
   "cell_type": "code",
   "execution_count": 299,
   "metadata": {},
   "outputs": [
    {
     "data": {
      "text/html": [
       "<div>\n",
       "<style scoped>\n",
       "    .dataframe tbody tr th:only-of-type {\n",
       "        vertical-align: middle;\n",
       "    }\n",
       "\n",
       "    .dataframe tbody tr th {\n",
       "        vertical-align: top;\n",
       "    }\n",
       "\n",
       "    .dataframe thead th {\n",
       "        text-align: right;\n",
       "    }\n",
       "</style>\n",
       "<table border=\"1\" class=\"dataframe\">\n",
       "  <thead>\n",
       "    <tr style=\"text-align: right;\">\n",
       "      <th></th>\n",
       "      <th>var</th>\n",
       "      <th>count</th>\n",
       "    </tr>\n",
       "  </thead>\n",
       "  <tbody>\n",
       "    <tr>\n",
       "      <td>0</td>\n",
       "      <td>Unnamed</td>\n",
       "      <td>0</td>\n",
       "    </tr>\n",
       "    <tr>\n",
       "      <td>1</td>\n",
       "      <td>key</td>\n",
       "      <td>0</td>\n",
       "    </tr>\n",
       "    <tr>\n",
       "      <td>2</td>\n",
       "      <td>fare_amount</td>\n",
       "      <td>5</td>\n",
       "    </tr>\n",
       "    <tr>\n",
       "      <td>3</td>\n",
       "      <td>pickup_datetime</td>\n",
       "      <td>0</td>\n",
       "    </tr>\n",
       "    <tr>\n",
       "      <td>4</td>\n",
       "      <td>pickup_longitude</td>\n",
       "      <td>3786</td>\n",
       "    </tr>\n",
       "    <tr>\n",
       "      <td>5</td>\n",
       "      <td>pickup_latitude</td>\n",
       "      <td>3782</td>\n",
       "    </tr>\n",
       "    <tr>\n",
       "      <td>6</td>\n",
       "      <td>dropoff_longitude</td>\n",
       "      <td>3764</td>\n",
       "    </tr>\n",
       "    <tr>\n",
       "      <td>7</td>\n",
       "      <td>dropoff_latitude</td>\n",
       "      <td>3758</td>\n",
       "    </tr>\n",
       "    <tr>\n",
       "      <td>8</td>\n",
       "      <td>passenger_count</td>\n",
       "      <td>709</td>\n",
       "    </tr>\n",
       "  </tbody>\n",
       "</table>\n",
       "</div>"
      ],
      "text/plain": [
       "                 var  count\n",
       "0            Unnamed      0\n",
       "1                key      0\n",
       "2        fare_amount      5\n",
       "3    pickup_datetime      0\n",
       "4   pickup_longitude   3786\n",
       "5    pickup_latitude   3782\n",
       "6  dropoff_longitude   3764\n",
       "7   dropoff_latitude   3758\n",
       "8    passenger_count    709"
      ]
     },
     "execution_count": 299,
     "metadata": {},
     "output_type": "execute_result"
    }
   ],
   "source": [
    "df"
   ]
  },
  {
   "cell_type": "code",
   "execution_count": 300,
   "metadata": {},
   "outputs": [],
   "source": [
    "# we cannot consider the zero latitude and logitudes for the model, hence replacing them with \"Nan\""
   ]
  },
  {
   "cell_type": "code",
   "execution_count": 301,
   "metadata": {},
   "outputs": [],
   "source": [
    "data.replace(to_replace=0,value=np.nan,inplace=True)"
   ]
  },
  {
   "cell_type": "code",
   "execution_count": 302,
   "metadata": {},
   "outputs": [
    {
     "data": {
      "text/plain": [
       "Unnamed                 0\n",
       "key                     0\n",
       "fare_amount             5\n",
       "pickup_datetime         0\n",
       "pickup_longitude     3786\n",
       "pickup_latitude      3782\n",
       "dropoff_longitude    3765\n",
       "dropoff_latitude     3759\n",
       "passenger_count       709\n",
       "dtype: int64"
      ]
     },
     "execution_count": 302,
     "metadata": {},
     "output_type": "execute_result"
    }
   ],
   "source": [
    "data.isnull().sum()"
   ]
  },
  {
   "cell_type": "code",
   "execution_count": 303,
   "metadata": {},
   "outputs": [
    {
     "name": "stdout",
     "output_type": "stream",
     "text": [
      "Missing values in percentage after replacing zeros\n"
     ]
    },
    {
     "data": {
      "text/plain": [
       "Unnamed              0.0000\n",
       "key                  0.0000\n",
       "fare_amount          0.0025\n",
       "pickup_datetime      0.0000\n",
       "pickup_longitude     1.8930\n",
       "pickup_latitude      1.8910\n",
       "dropoff_longitude    1.8825\n",
       "dropoff_latitude     1.8795\n",
       "passenger_count      0.3545\n",
       "dtype: float64"
      ]
     },
     "execution_count": 303,
     "metadata": {},
     "output_type": "execute_result"
    }
   ],
   "source": [
    "print('Missing values in percentage after replacing zeros')\n",
    "round(100*data.isnull().sum()/len(data),4)"
   ]
  },
  {
   "cell_type": "code",
   "execution_count": 304,
   "metadata": {},
   "outputs": [],
   "source": [
    "# Percentage of missing values is very less, dropping the rows with missing values"
   ]
  },
  {
   "cell_type": "code",
   "execution_count": 305,
   "metadata": {},
   "outputs": [],
   "source": [
    "cols_nan=['fare_amount','pickup_longitude',\n",
    "       'pickup_latitude', 'dropoff_longitude', 'dropoff_latitude',\n",
    "       'passenger_count']"
   ]
  },
  {
   "cell_type": "code",
   "execution_count": 306,
   "metadata": {},
   "outputs": [],
   "source": [
    "for i in cols_nan:\n",
    "    data.drop(list(data[data[i].isnull()].index),axis=0,inplace=True)"
   ]
  },
  {
   "cell_type": "code",
   "execution_count": 307,
   "metadata": {},
   "outputs": [
    {
     "data": {
      "text/plain": [
       "Unnamed              0\n",
       "key                  0\n",
       "fare_amount          0\n",
       "pickup_datetime      0\n",
       "pickup_longitude     0\n",
       "pickup_latitude      0\n",
       "dropoff_longitude    0\n",
       "dropoff_latitude     0\n",
       "passenger_count      0\n",
       "dtype: int64"
      ]
     },
     "execution_count": 307,
     "metadata": {},
     "output_type": "execute_result"
    }
   ],
   "source": [
    "data.isnull().sum()"
   ]
  },
  {
   "cell_type": "code",
   "execution_count": 311,
   "metadata": {},
   "outputs": [
    {
     "name": "stdout",
     "output_type": "stream",
     "text": [
      "<class 'pandas.core.frame.DataFrame'>\n",
      "Int64Index: 195342 entries, 0 to 199999\n",
      "Data columns (total 9 columns):\n",
      "Unnamed              195342 non-null int64\n",
      "key                  195342 non-null object\n",
      "fare_amount          195342 non-null float64\n",
      "pickup_datetime      195342 non-null object\n",
      "pickup_longitude     195342 non-null float64\n",
      "pickup_latitude      195342 non-null float64\n",
      "dropoff_longitude    195342 non-null float64\n",
      "dropoff_latitude     195342 non-null float64\n",
      "passenger_count      195342 non-null float64\n",
      "dtypes: float64(6), int64(1), object(2)\n",
      "memory usage: 14.9+ MB\n"
     ]
    }
   ],
   "source": [
    "data.info()"
   ]
  },
  {
   "cell_type": "markdown",
   "metadata": {},
   "source": [
    "## EDA"
   ]
  },
  {
   "cell_type": "code",
   "execution_count": 27,
   "metadata": {},
   "outputs": [
    {
     "data": {
      "text/plain": [
       "['key', 'pickup_datetime']"
      ]
     },
     "execution_count": 27,
     "metadata": {},
     "output_type": "execute_result"
    }
   ],
   "source": [
    "# categorical columns\n",
    "data.dtypes[data.dtypes=='object'].index.tolist()"
   ]
  },
  {
   "cell_type": "code",
   "execution_count": 8,
   "metadata": {},
   "outputs": [
    {
     "data": {
      "text/plain": [
       "['Unnamed',\n",
       " 'fare_amount',\n",
       " 'pickup_longitude',\n",
       " 'pickup_latitude',\n",
       " 'dropoff_longitude',\n",
       " 'dropoff_latitude',\n",
       " 'passenger_count']"
      ]
     },
     "execution_count": 8,
     "metadata": {},
     "output_type": "execute_result"
    }
   ],
   "source": [
    "# numerical columns\n",
    "data.dtypes[data.dtypes!='object'].index.tolist()"
   ]
  },
  {
   "cell_type": "code",
   "execution_count": 28,
   "metadata": {},
   "outputs": [
    {
     "data": {
      "text/plain": [
       "196629"
      ]
     },
     "execution_count": 28,
     "metadata": {},
     "output_type": "execute_result"
    },
    {
     "data": {
      "text/plain": [
       "196629"
      ]
     },
     "execution_count": 28,
     "metadata": {},
     "output_type": "execute_result"
    }
   ],
   "source": [
    "# unique values of categorical columns\n",
    "data.key.unique().size\n",
    "data.pickup_datetime.unique().size\n",
    "\n",
    "# We have many unique value in categorical columns\n",
    "# Not including them in the model"
   ]
  },
  {
   "cell_type": "code",
   "execution_count": 312,
   "metadata": {},
   "outputs": [
    {
     "data": {
      "text/plain": [
       "Index(['Unnamed', 'key', 'fare_amount', 'pickup_datetime', 'pickup_longitude',\n",
       "       'pickup_latitude', 'dropoff_longitude', 'dropoff_latitude',\n",
       "       'passenger_count'],\n",
       "      dtype='object')"
      ]
     },
     "execution_count": 312,
     "metadata": {},
     "output_type": "execute_result"
    }
   ],
   "source": [
    "data.columns"
   ]
  },
  {
   "cell_type": "code",
   "execution_count": 315,
   "metadata": {},
   "outputs": [
    {
     "data": {
      "image/png": "[encoded data removed]",
      "text/plain": [
       "<Figure size 576x288 with 1 Axes>"
      ]
     },
     "metadata": {
      "needs_background": "light"
     },
     "output_type": "display_data"
    }
   ],
   "source": [
    "data[\"passenger_count\"].value_counts().plot(kind=\"bar\",figsize=[8,4], edgecolor='yellow', color='Orange')\n",
    "plt.xlabel('No.Of Passengers', fontsize=16)\n",
    "plt.ylabel('Value count', fontsize=16)\n",
    "plt.title('Barchart',fontsize=20)\n",
    "plt.show();"
   ]
  },
  {
   "cell_type": "code",
   "execution_count": 324,
   "metadata": {},
   "outputs": [
    {
     "name": "stdout",
     "output_type": "stream",
     "text": [
      "\n",
      "\n"
     ]
    },
    {
     "data": {
      "image/png": "[encoded data removed]",
      "text/plain": [
       "<Figure size 1080x288 with 4 Axes>"
      ]
     },
     "metadata": {
      "needs_background": "light"
     },
     "output_type": "display_data"
    }
   ],
   "source": [
    "plt.figure(figsize=(15,4))\n",
    "\n",
    "plt.subplot(2,2,1)\n",
    "sns.distplot(data.pickup_longitude)\n",
    "\n",
    "plt.subplot(2,2,2)\n",
    "sns.distplot(data.pickup_latitude)\n",
    "\n",
    "plt.subplot(2,2,3)\n",
    "sns.distplot(data.dropoff_longitude);\n",
    "\n",
    "plt.subplot(2,2,4)\n",
    "sns.distplot(data.dropoff_latitude)\n",
    "\n",
    "plt.show();"
   ]
  },
  {
   "cell_type": "markdown",
   "metadata": {},
   "source": [
    "# Model Building"
   ]
  },
  {
   "cell_type": "code",
   "execution_count": 78,
   "metadata": {},
   "outputs": [],
   "source": [
    "# Importing the required libraries the model\n",
    "\n",
    "from sklearn.preprocessing import LabelEncoder\n",
    "\n",
    "from sklearn.model_selection import train_test_split"
   ]
  },
  {
   "cell_type": "code",
   "execution_count": 80,
   "metadata": {},
   "outputs": [
    {
     "data": {
      "text/plain": [
       "Index(['Unnamed', 'key', 'fare_amount', 'pickup_datetime', 'pickup_longitude',\n",
       "       'pickup_latitude', 'dropoff_longitude', 'dropoff_latitude',\n",
       "       'passenger_count'],\n",
       "      dtype='object')"
      ]
     },
     "execution_count": 80,
     "metadata": {},
     "output_type": "execute_result"
    }
   ],
   "source": [
    "data.columns"
   ]
  },
  {
   "cell_type": "code",
   "execution_count": 79,
   "metadata": {},
   "outputs": [],
   "source": [
    "feature_cols=['pickup_longitude',\n",
    "       'pickup_latitude', 'dropoff_longitude', 'dropoff_latitude',\n",
    "       'passenger_count']"
   ]
  },
  {
   "cell_type": "code",
   "execution_count": 81,
   "metadata": {},
   "outputs": [],
   "source": [
    "x=data[feature_cols]\n",
    "y=data.fare_amount"
   ]
  },
  {
   "cell_type": "code",
   "execution_count": 82,
   "metadata": {},
   "outputs": [],
   "source": [
    "x_train, x_test, y_train, y_test = train_test_split(x,y,test_size=0.3,random_state=0)"
   ]
  },
  {
   "cell_type": "markdown",
   "metadata": {},
   "source": [
    "### Model with DecisionTree"
   ]
  },
  {
   "cell_type": "code",
   "execution_count": 93,
   "metadata": {},
   "outputs": [],
   "source": [
    "from sklearn.tree import DecisionTreeRegressor"
   ]
  },
  {
   "cell_type": "code",
   "execution_count": 94,
   "metadata": {},
   "outputs": [],
   "source": [
    "dt = DecisionTreeRegressor()"
   ]
  },
  {
   "cell_type": "code",
   "execution_count": 95,
   "metadata": {},
   "outputs": [
    {
     "data": {
      "text/plain": [
       "DecisionTreeRegressor(criterion='mse', max_depth=None, max_features=None,\n",
       "                      max_leaf_nodes=None, min_impurity_decrease=0.0,\n",
       "                      min_impurity_split=None, min_samples_leaf=1,\n",
       "                      min_samples_split=2, min_weight_fraction_leaf=0.0,\n",
       "                      presort=False, random_state=None, splitter='best')"
      ]
     },
     "execution_count": 95,
     "metadata": {},
     "output_type": "execute_result"
    }
   ],
   "source": [
    "dt.fit(x_train,y_train)"
   ]
  },
  {
   "cell_type": "code",
   "execution_count": 96,
   "metadata": {},
   "outputs": [],
   "source": [
    "dt_pred=dt.predict(x_test)"
   ]
  },
  {
   "cell_type": "code",
   "execution_count": 97,
   "metadata": {},
   "outputs": [
    {
     "data": {
      "text/plain": [
       "0.6088023942204452"
      ]
     },
     "execution_count": 97,
     "metadata": {},
     "output_type": "execute_result"
    }
   ],
   "source": [
    "r2_score(y_test,dt_pred)"
   ]
  },
  {
   "cell_type": "code",
   "execution_count": 98,
   "metadata": {},
   "outputs": [
    {
     "data": {
      "text/plain": [
       "6.083365869398486"
      ]
     },
     "execution_count": 98,
     "metadata": {},
     "output_type": "execute_result"
    }
   ],
   "source": [
    "np.sqrt(mean_squared_error(y_test,dt_pred))"
   ]
  },
  {
   "cell_type": "markdown",
   "metadata": {},
   "source": [
    "### Model with Random Forest"
   ]
  },
  {
   "cell_type": "code",
   "execution_count": 236,
   "metadata": {},
   "outputs": [],
   "source": [
    "from sklearn.ensemble import RandomForestRegressor"
   ]
  },
  {
   "cell_type": "code",
   "execution_count": 256,
   "metadata": {},
   "outputs": [],
   "source": [
    "rf=RandomForestRegressor(random_state=0)"
   ]
  },
  {
   "cell_type": "code",
   "execution_count": 257,
   "metadata": {},
   "outputs": [
    {
     "data": {
      "text/plain": [
       "RandomForestRegressor(bootstrap=True, criterion='mse', max_depth=None,\n",
       "                      max_features='auto', max_leaf_nodes=None,\n",
       "                      min_impurity_decrease=0.0, min_impurity_split=None,\n",
       "                      min_samples_leaf=1, min_samples_split=2,\n",
       "                      min_weight_fraction_leaf=0.0, n_estimators=10,\n",
       "                      n_jobs=None, oob_score=False, random_state=0, verbose=0,\n",
       "                      warm_start=False)"
      ]
     },
     "execution_count": 257,
     "metadata": {},
     "output_type": "execute_result"
    }
   ],
   "source": [
    "rf.fit(x_train,y_train)"
   ]
  },
  {
   "cell_type": "code",
   "execution_count": 258,
   "metadata": {},
   "outputs": [],
   "source": [
    "y_train_pred = rf.predict(x_train)\n",
    "\n",
    "y_test_pred = rf.predict(x_test)"
   ]
  },
  {
   "cell_type": "code",
   "execution_count": 259,
   "metadata": {},
   "outputs": [
    {
     "data": {
      "text/plain": [
       "0.9578406499267291"
      ]
     },
     "execution_count": 259,
     "metadata": {},
     "output_type": "execute_result"
    },
    {
     "data": {
      "text/plain": [
       "0.7623392783527617"
      ]
     },
     "execution_count": 259,
     "metadata": {},
     "output_type": "execute_result"
    }
   ],
   "source": [
    "r2_score(y_train,y_train_pred)\n",
    "r2_score(y_test,y_test_pred)"
   ]
  },
  {
   "cell_type": "code",
   "execution_count": 260,
   "metadata": {},
   "outputs": [
    {
     "data": {
      "text/plain": [
       "array([0.31869865, 0.13453158, 0.37888244, 0.15919916, 0.00868817])"
      ]
     },
     "execution_count": 260,
     "metadata": {},
     "output_type": "execute_result"
    }
   ],
   "source": [
    "rf.feature_importances_"
   ]
  },
  {
   "cell_type": "code",
   "execution_count": 261,
   "metadata": {},
   "outputs": [],
   "source": [
    "f_imp = rf.feature_importances_"
   ]
  },
  {
   "cell_type": "code",
   "execution_count": 262,
   "metadata": {},
   "outputs": [
    {
     "data": {
      "text/plain": [
       "array([4, 1, 3, 0, 2], dtype=int64)"
      ]
     },
     "execution_count": 262,
     "metadata": {},
     "output_type": "execute_result"
    }
   ],
   "source": [
    "np.argsort(rf.feature_importances_)"
   ]
  },
  {
   "cell_type": "code",
   "execution_count": 263,
   "metadata": {},
   "outputs": [],
   "source": [
    "sorted_idx = np.argsort(rf.feature_importances_)"
   ]
  },
  {
   "cell_type": "code",
   "execution_count": 264,
   "metadata": {},
   "outputs": [
    {
     "data": {
      "text/plain": [
       "Index(['passenger_count', 'pickup_latitude', 'dropoff_latitude',\n",
       "       'pickup_longitude', 'dropoff_longitude'],\n",
       "      dtype='object')"
      ]
     },
     "execution_count": 264,
     "metadata": {},
     "output_type": "execute_result"
    }
   ],
   "source": [
    "x_train.columns[sorted_idx]"
   ]
  },
  {
   "cell_type": "code",
   "execution_count": 265,
   "metadata": {},
   "outputs": [
    {
     "data": {
      "text/plain": [
       "array([0.00868817, 0.13453158, 0.15919916, 0.31869865, 0.37888244])"
      ]
     },
     "execution_count": 265,
     "metadata": {},
     "output_type": "execute_result"
    }
   ],
   "source": [
    "f_imp[sorted_idx]"
   ]
  },
  {
   "cell_type": "code",
   "execution_count": 266,
   "metadata": {},
   "outputs": [
    {
     "data": {
      "image/png": "[encoded data removed]",
      "text/plain": [
       "<Figure size 1080x504 with 1 Axes>"
      ]
     },
     "metadata": {
      "needs_background": "light"
     },
     "output_type": "display_data"
    }
   ],
   "source": [
    "plt.figure(figsize=(15,7))\n",
    "sns.barplot(x = x_train.columns[sorted_idx], y = f_imp[sorted_idx])\n",
    "plt.show();"
   ]
  },
  {
   "cell_type": "code",
   "execution_count": 267,
   "metadata": {},
   "outputs": [],
   "source": [
    "features_selected= ['dropoff_longitude', 'pickup_longitude', 'dropoff_latitude',\n",
    "       'pickup_latitude']\n",
    "# Selecting features that are having high importance"
   ]
  },
  {
   "cell_type": "code",
   "execution_count": 268,
   "metadata": {},
   "outputs": [],
   "source": [
    "xrf=data[features_selected]\n",
    "yrf=data.fare_amount"
   ]
  },
  {
   "cell_type": "code",
   "execution_count": 269,
   "metadata": {},
   "outputs": [],
   "source": [
    "xrf_train, xrf_test, yrf_train, yrf_test = train_test_split(xrf,yrf, test_size = 0.3, random_state = 0)"
   ]
  },
  {
   "cell_type": "code",
   "execution_count": 270,
   "metadata": {},
   "outputs": [],
   "source": [
    "rf1 = RandomForestRegressor(random_state=0)"
   ]
  },
  {
   "cell_type": "code",
   "execution_count": 271,
   "metadata": {},
   "outputs": [
    {
     "data": {
      "text/plain": [
       "RandomForestRegressor(bootstrap=True, criterion='mse', max_depth=None,\n",
       "                      max_features='auto', max_leaf_nodes=None,\n",
       "                      min_impurity_decrease=0.0, min_impurity_split=None,\n",
       "                      min_samples_leaf=1, min_samples_split=2,\n",
       "                      min_weight_fraction_leaf=0.0, n_estimators=10,\n",
       "                      n_jobs=None, oob_score=False, random_state=0, verbose=0,\n",
       "                      warm_start=False)"
      ]
     },
     "execution_count": 271,
     "metadata": {},
     "output_type": "execute_result"
    }
   ],
   "source": [
    "rf1.fit(xrf_train, yrf_train)"
   ]
  },
  {
   "cell_type": "code",
   "execution_count": 272,
   "metadata": {},
   "outputs": [],
   "source": [
    "yrf_train_pred1 = rf1.predict(xrf_train)\n",
    "\n",
    "yrf_test_pred1 = rf1.predict(xrf_test)"
   ]
  },
  {
   "cell_type": "code",
   "execution_count": 273,
   "metadata": {},
   "outputs": [
    {
     "data": {
      "text/plain": [
       "0.9578446993675813"
      ]
     },
     "execution_count": 273,
     "metadata": {},
     "output_type": "execute_result"
    },
    {
     "data": {
      "text/plain": [
       "0.7646486202521627"
      ]
     },
     "execution_count": 273,
     "metadata": {},
     "output_type": "execute_result"
    }
   ],
   "source": [
    "r2_score(yrf_train,yrf_train_pred1)\n",
    "r2_score(yrf_test,yrf_test_pred1)"
   ]
  },
  {
   "cell_type": "code",
   "execution_count": 274,
   "metadata": {},
   "outputs": [
    {
     "data": {
      "text/plain": [
       "4.718502800292847"
      ]
     },
     "execution_count": 274,
     "metadata": {},
     "output_type": "execute_result"
    }
   ],
   "source": [
    "np.sqrt(mean_squared_error(yrf_test,yrf_test_pred1))"
   ]
  },
  {
   "cell_type": "code",
   "execution_count": 133,
   "metadata": {},
   "outputs": [],
   "source": [
    "test=pd.read_excel(r'C:\\Users\\Devi Vara Prasad\\Desktop\\Innomatics\\Projects\\Uber-Hackathon\\sample_test_without_target.xlsx')"
   ]
  },
  {
   "cell_type": "code",
   "execution_count": 135,
   "metadata": {},
   "outputs": [
    {
     "data": {
      "text/plain": [
       "Index(['Unnamed: 0', 'Unnamed: 0.1', 'key', 'pickup_datetime',\n",
       "       'pickup_longitude', 'pickup_latitude', 'dropoff_longitude',\n",
       "       'dropoff_latitude', 'passenger_count'],\n",
       "      dtype='object')"
      ]
     },
     "execution_count": 135,
     "metadata": {},
     "output_type": "execute_result"
    }
   ],
   "source": [
    "test.columns"
   ]
  },
  {
   "cell_type": "code",
   "execution_count": 136,
   "metadata": {},
   "outputs": [],
   "source": [
    "test_features=['dropoff_longitude', 'pickup_longitude', 'dropoff_latitude',\n",
    "       'pickup_latitude']"
   ]
  },
  {
   "cell_type": "code",
   "execution_count": 137,
   "metadata": {},
   "outputs": [
    {
     "data": {
      "text/html": [
       "<div>\n",
       "<style scoped>\n",
       "    .dataframe tbody tr th:only-of-type {\n",
       "        vertical-align: middle;\n",
       "    }\n",
       "\n",
       "    .dataframe tbody tr th {\n",
       "        vertical-align: top;\n",
       "    }\n",
       "\n",
       "    .dataframe thead th {\n",
       "        text-align: right;\n",
       "    }\n",
       "</style>\n",
       "<table border=\"1\" class=\"dataframe\">\n",
       "  <thead>\n",
       "    <tr style=\"text-align: right;\">\n",
       "      <th></th>\n",
       "      <th>dropoff_longitude</th>\n",
       "      <th>pickup_longitude</th>\n",
       "      <th>dropoff_latitude</th>\n",
       "      <th>pickup_latitude</th>\n",
       "    </tr>\n",
       "  </thead>\n",
       "  <tbody>\n",
       "    <tr>\n",
       "      <td>0</td>\n",
       "      <td>-73.947570</td>\n",
       "      <td>-73.951662</td>\n",
       "      <td>40.756220</td>\n",
       "      <td>40.790710</td>\n",
       "    </tr>\n",
       "    <tr>\n",
       "      <td>1</td>\n",
       "      <td>-73.974075</td>\n",
       "      <td>-73.951007</td>\n",
       "      <td>40.763553</td>\n",
       "      <td>40.771508</td>\n",
       "    </tr>\n",
       "    <tr>\n",
       "      <td>2</td>\n",
       "      <td>-73.990298</td>\n",
       "      <td>-73.996473</td>\n",
       "      <td>40.756152</td>\n",
       "      <td>40.747930</td>\n",
       "    </tr>\n",
       "    <tr>\n",
       "      <td>3</td>\n",
       "      <td>-73.952617</td>\n",
       "      <td>-73.997934</td>\n",
       "      <td>40.727149</td>\n",
       "      <td>40.716890</td>\n",
       "    </tr>\n",
       "    <tr>\n",
       "      <td>4</td>\n",
       "      <td>-73.906128</td>\n",
       "      <td>-73.952583</td>\n",
       "      <td>40.711281</td>\n",
       "      <td>40.714039</td>\n",
       "    </tr>\n",
       "    <tr>\n",
       "      <td>...</td>\n",
       "      <td>...</td>\n",
       "      <td>...</td>\n",
       "      <td>...</td>\n",
       "      <td>...</td>\n",
       "    </tr>\n",
       "    <tr>\n",
       "      <td>49995</td>\n",
       "      <td>-73.986245</td>\n",
       "      <td>-73.993368</td>\n",
       "      <td>40.744542</td>\n",
       "      <td>40.747670</td>\n",
       "    </tr>\n",
       "    <tr>\n",
       "      <td>49996</td>\n",
       "      <td>-73.992022</td>\n",
       "      <td>-73.885612</td>\n",
       "      <td>40.731085</td>\n",
       "      <td>40.773122</td>\n",
       "    </tr>\n",
       "    <tr>\n",
       "      <td>49997</td>\n",
       "      <td>-73.962546</td>\n",
       "      <td>-73.962469</td>\n",
       "      <td>40.770940</td>\n",
       "      <td>40.770926</td>\n",
       "    </tr>\n",
       "    <tr>\n",
       "      <td>49998</td>\n",
       "      <td>-74.000052</td>\n",
       "      <td>-74.012434</td>\n",
       "      <td>40.717883</td>\n",
       "      <td>40.702658</td>\n",
       "    </tr>\n",
       "    <tr>\n",
       "      <td>49999</td>\n",
       "      <td>-73.977515</td>\n",
       "      <td>-73.996167</td>\n",
       "      <td>40.758580</td>\n",
       "      <td>40.730985</td>\n",
       "    </tr>\n",
       "  </tbody>\n",
       "</table>\n",
       "<p>50000 rows × 4 columns</p>\n",
       "</div>"
      ],
      "text/plain": [
       "       dropoff_longitude  pickup_longitude  dropoff_latitude  pickup_latitude\n",
       "0             -73.947570        -73.951662         40.756220        40.790710\n",
       "1             -73.974075        -73.951007         40.763553        40.771508\n",
       "2             -73.990298        -73.996473         40.756152        40.747930\n",
       "3             -73.952617        -73.997934         40.727149        40.716890\n",
       "4             -73.906128        -73.952583         40.711281        40.714039\n",
       "...                  ...               ...               ...              ...\n",
       "49995         -73.986245        -73.993368         40.744542        40.747670\n",
       "49996         -73.992022        -73.885612         40.731085        40.773122\n",
       "49997         -73.962546        -73.962469         40.770940        40.770926\n",
       "49998         -74.000052        -74.012434         40.717883        40.702658\n",
       "49999         -73.977515        -73.996167         40.758580        40.730985\n",
       "\n",
       "[50000 rows x 4 columns]"
      ]
     },
     "execution_count": 137,
     "metadata": {},
     "output_type": "execute_result"
    }
   ],
   "source": [
    "test[test_features]"
   ]
  },
  {
   "cell_type": "code",
   "execution_count": 138,
   "metadata": {},
   "outputs": [],
   "source": [
    "yrf_test_predictions=rf1.predict(test[test_features])"
   ]
  },
  {
   "cell_type": "code",
   "execution_count": 139,
   "metadata": {},
   "outputs": [
    {
     "data": {
      "text/plain": [
       "array([12.23, 10.74,  4.82, ...,  6.6 ,  8.19, 12.92])"
      ]
     },
     "execution_count": 139,
     "metadata": {},
     "output_type": "execute_result"
    }
   ],
   "source": [
    "yrf_test_predictions"
   ]
  },
  {
   "cell_type": "code",
   "execution_count": 194,
   "metadata": {},
   "outputs": [],
   "source": [
    "df2=pd.DataFrame()\n",
    "df2['Predicted_Values']=yrf_test_predictions"
   ]
  },
  {
   "cell_type": "code",
   "execution_count": 195,
   "metadata": {},
   "outputs": [
    {
     "data": {
      "text/html": [
       "<div>\n",
       "<style scoped>\n",
       "    .dataframe tbody tr th:only-of-type {\n",
       "        vertical-align: middle;\n",
       "    }\n",
       "\n",
       "    .dataframe tbody tr th {\n",
       "        vertical-align: top;\n",
       "    }\n",
       "\n",
       "    .dataframe thead th {\n",
       "        text-align: right;\n",
       "    }\n",
       "</style>\n",
       "<table border=\"1\" class=\"dataframe\">\n",
       "  <thead>\n",
       "    <tr style=\"text-align: right;\">\n",
       "      <th></th>\n",
       "      <th>Predicted_Values</th>\n",
       "    </tr>\n",
       "  </thead>\n",
       "  <tbody>\n",
       "    <tr>\n",
       "      <td>0</td>\n",
       "      <td>12.230</td>\n",
       "    </tr>\n",
       "    <tr>\n",
       "      <td>1</td>\n",
       "      <td>10.740</td>\n",
       "    </tr>\n",
       "    <tr>\n",
       "      <td>2</td>\n",
       "      <td>4.820</td>\n",
       "    </tr>\n",
       "    <tr>\n",
       "      <td>3</td>\n",
       "      <td>10.060</td>\n",
       "    </tr>\n",
       "    <tr>\n",
       "      <td>4</td>\n",
       "      <td>12.000</td>\n",
       "    </tr>\n",
       "    <tr>\n",
       "      <td>...</td>\n",
       "      <td>...</td>\n",
       "    </tr>\n",
       "    <tr>\n",
       "      <td>49995</td>\n",
       "      <td>6.060</td>\n",
       "    </tr>\n",
       "    <tr>\n",
       "      <td>49996</td>\n",
       "      <td>27.776</td>\n",
       "    </tr>\n",
       "    <tr>\n",
       "      <td>49997</td>\n",
       "      <td>6.600</td>\n",
       "    </tr>\n",
       "    <tr>\n",
       "      <td>49998</td>\n",
       "      <td>8.190</td>\n",
       "    </tr>\n",
       "    <tr>\n",
       "      <td>49999</td>\n",
       "      <td>12.920</td>\n",
       "    </tr>\n",
       "  </tbody>\n",
       "</table>\n",
       "<p>50000 rows × 1 columns</p>\n",
       "</div>"
      ],
      "text/plain": [
       "       Predicted_Values\n",
       "0                12.230\n",
       "1                10.740\n",
       "2                 4.820\n",
       "3                10.060\n",
       "4                12.000\n",
       "...                 ...\n",
       "49995             6.060\n",
       "49996            27.776\n",
       "49997             6.600\n",
       "49998             8.190\n",
       "49999            12.920\n",
       "\n",
       "[50000 rows x 1 columns]"
      ]
     },
     "execution_count": 195,
     "metadata": {},
     "output_type": "execute_result"
    }
   ],
   "source": [
    "df2"
   ]
  },
  {
   "cell_type": "code",
   "execution_count": 196,
   "metadata": {},
   "outputs": [],
   "source": [
    "df3=test[test_features]"
   ]
  },
  {
   "cell_type": "code",
   "execution_count": 197,
   "metadata": {},
   "outputs": [],
   "source": [
    "df4=pd.concat([df3,df2],axis=1)"
   ]
  },
  {
   "cell_type": "code",
   "execution_count": 198,
   "metadata": {},
   "outputs": [
    {
     "data": {
      "text/html": [
       "<div>\n",
       "<style scoped>\n",
       "    .dataframe tbody tr th:only-of-type {\n",
       "        vertical-align: middle;\n",
       "    }\n",
       "\n",
       "    .dataframe tbody tr th {\n",
       "        vertical-align: top;\n",
       "    }\n",
       "\n",
       "    .dataframe thead th {\n",
       "        text-align: right;\n",
       "    }\n",
       "</style>\n",
       "<table border=\"1\" class=\"dataframe\">\n",
       "  <thead>\n",
       "    <tr style=\"text-align: right;\">\n",
       "      <th></th>\n",
       "      <th>dropoff_longitude</th>\n",
       "      <th>pickup_longitude</th>\n",
       "      <th>dropoff_latitude</th>\n",
       "      <th>pickup_latitude</th>\n",
       "      <th>Predicted_Values</th>\n",
       "    </tr>\n",
       "  </thead>\n",
       "  <tbody>\n",
       "    <tr>\n",
       "      <td>0</td>\n",
       "      <td>-73.947570</td>\n",
       "      <td>-73.951662</td>\n",
       "      <td>40.756220</td>\n",
       "      <td>40.790710</td>\n",
       "      <td>12.230</td>\n",
       "    </tr>\n",
       "    <tr>\n",
       "      <td>1</td>\n",
       "      <td>-73.974075</td>\n",
       "      <td>-73.951007</td>\n",
       "      <td>40.763553</td>\n",
       "      <td>40.771508</td>\n",
       "      <td>10.740</td>\n",
       "    </tr>\n",
       "    <tr>\n",
       "      <td>2</td>\n",
       "      <td>-73.990298</td>\n",
       "      <td>-73.996473</td>\n",
       "      <td>40.756152</td>\n",
       "      <td>40.747930</td>\n",
       "      <td>4.820</td>\n",
       "    </tr>\n",
       "    <tr>\n",
       "      <td>3</td>\n",
       "      <td>-73.952617</td>\n",
       "      <td>-73.997934</td>\n",
       "      <td>40.727149</td>\n",
       "      <td>40.716890</td>\n",
       "      <td>10.060</td>\n",
       "    </tr>\n",
       "    <tr>\n",
       "      <td>4</td>\n",
       "      <td>-73.906128</td>\n",
       "      <td>-73.952583</td>\n",
       "      <td>40.711281</td>\n",
       "      <td>40.714039</td>\n",
       "      <td>12.000</td>\n",
       "    </tr>\n",
       "    <tr>\n",
       "      <td>...</td>\n",
       "      <td>...</td>\n",
       "      <td>...</td>\n",
       "      <td>...</td>\n",
       "      <td>...</td>\n",
       "      <td>...</td>\n",
       "    </tr>\n",
       "    <tr>\n",
       "      <td>49995</td>\n",
       "      <td>-73.986245</td>\n",
       "      <td>-73.993368</td>\n",
       "      <td>40.744542</td>\n",
       "      <td>40.747670</td>\n",
       "      <td>6.060</td>\n",
       "    </tr>\n",
       "    <tr>\n",
       "      <td>49996</td>\n",
       "      <td>-73.992022</td>\n",
       "      <td>-73.885612</td>\n",
       "      <td>40.731085</td>\n",
       "      <td>40.773122</td>\n",
       "      <td>27.776</td>\n",
       "    </tr>\n",
       "    <tr>\n",
       "      <td>49997</td>\n",
       "      <td>-73.962546</td>\n",
       "      <td>-73.962469</td>\n",
       "      <td>40.770940</td>\n",
       "      <td>40.770926</td>\n",
       "      <td>6.600</td>\n",
       "    </tr>\n",
       "    <tr>\n",
       "      <td>49998</td>\n",
       "      <td>-74.000052</td>\n",
       "      <td>-74.012434</td>\n",
       "      <td>40.717883</td>\n",
       "      <td>40.702658</td>\n",
       "      <td>8.190</td>\n",
       "    </tr>\n",
       "    <tr>\n",
       "      <td>49999</td>\n",
       "      <td>-73.977515</td>\n",
       "      <td>-73.996167</td>\n",
       "      <td>40.758580</td>\n",
       "      <td>40.730985</td>\n",
       "      <td>12.920</td>\n",
       "    </tr>\n",
       "  </tbody>\n",
       "</table>\n",
       "<p>50000 rows × 5 columns</p>\n",
       "</div>"
      ],
      "text/plain": [
       "       dropoff_longitude  pickup_longitude  dropoff_latitude  pickup_latitude  \\\n",
       "0             -73.947570        -73.951662         40.756220        40.790710   \n",
       "1             -73.974075        -73.951007         40.763553        40.771508   \n",
       "2             -73.990298        -73.996473         40.756152        40.747930   \n",
       "3             -73.952617        -73.997934         40.727149        40.716890   \n",
       "4             -73.906128        -73.952583         40.711281        40.714039   \n",
       "...                  ...               ...               ...              ...   \n",
       "49995         -73.986245        -73.993368         40.744542        40.747670   \n",
       "49996         -73.992022        -73.885612         40.731085        40.773122   \n",
       "49997         -73.962546        -73.962469         40.770940        40.770926   \n",
       "49998         -74.000052        -74.012434         40.717883        40.702658   \n",
       "49999         -73.977515        -73.996167         40.758580        40.730985   \n",
       "\n",
       "       Predicted_Values  \n",
       "0                12.230  \n",
       "1                10.740  \n",
       "2                 4.820  \n",
       "3                10.060  \n",
       "4                12.000  \n",
       "...                 ...  \n",
       "49995             6.060  \n",
       "49996            27.776  \n",
       "49997             6.600  \n",
       "49998             8.190  \n",
       "49999            12.920  \n",
       "\n",
       "[50000 rows x 5 columns]"
      ]
     },
     "execution_count": 198,
     "metadata": {},
     "output_type": "execute_result"
    }
   ],
   "source": [
    "df4"
   ]
  },
  {
   "cell_type": "code",
   "execution_count": 151,
   "metadata": {},
   "outputs": [],
   "source": [
    "df4.to_csv('file1')"
   ]
  },
  {
   "cell_type": "markdown",
   "metadata": {},
   "source": [
    "### Hyper-Parameter tuning"
   ]
  },
  {
   "cell_type": "code",
   "execution_count": 173,
   "metadata": {},
   "outputs": [],
   "source": [
    "from sklearn.model_selection import GridSearchCV"
   ]
  },
  {
   "cell_type": "code",
   "execution_count": 174,
   "metadata": {},
   "outputs": [],
   "source": [
    "pram_grid = {'n_estimators' : [20,50,100],\n",
    "            'max_features':[1,2,3]}"
   ]
  },
  {
   "cell_type": "code",
   "execution_count": 175,
   "metadata": {},
   "outputs": [],
   "source": [
    "model = RandomForestRegressor()"
   ]
  },
  {
   "cell_type": "code",
   "execution_count": 176,
   "metadata": {},
   "outputs": [],
   "source": [
    "grid_results = GridSearchCV(model, pram_grid, cv = 5)"
   ]
  },
  {
   "cell_type": "code",
   "execution_count": 177,
   "metadata": {},
   "outputs": [
    {
     "data": {
      "text/plain": [
       "GridSearchCV(cv=5, error_score='raise-deprecating',\n",
       "             estimator=RandomForestRegressor(bootstrap=True, criterion='mse',\n",
       "                                             max_depth=None,\n",
       "                                             max_features='auto',\n",
       "                                             max_leaf_nodes=None,\n",
       "                                             min_impurity_decrease=0.0,\n",
       "                                             min_impurity_split=None,\n",
       "                                             min_samples_leaf=1,\n",
       "                                             min_samples_split=2,\n",
       "                                             min_weight_fraction_leaf=0.0,\n",
       "                                             n_estimators='warn', n_jobs=None,\n",
       "                                             oob_score=False, random_state=None,\n",
       "                                             verbose=0, warm_start=False),\n",
       "             iid='warn', n_jobs=None,\n",
       "             param_grid={'max_features': [1, 2, 3],\n",
       "                         'n_estimators': [20, 50, 100]},\n",
       "             pre_dispatch='2*n_jobs', refit=True, return_train_score=False,\n",
       "             scoring=None, verbose=0)"
      ]
     },
     "execution_count": 177,
     "metadata": {},
     "output_type": "execute_result"
    }
   ],
   "source": [
    "grid_results.fit(xrf_train.values, yrf_train.values)"
   ]
  },
  {
   "cell_type": "code",
   "execution_count": 178,
   "metadata": {},
   "outputs": [
    {
     "data": {
      "text/plain": [
       "0.7920888445473656"
      ]
     },
     "execution_count": 178,
     "metadata": {},
     "output_type": "execute_result"
    }
   ],
   "source": [
    "grid_results.best_score_"
   ]
  },
  {
   "cell_type": "code",
   "execution_count": 179,
   "metadata": {},
   "outputs": [
    {
     "data": {
      "text/plain": [
       "{'max_features': 2, 'n_estimators': 100}"
      ]
     },
     "execution_count": 179,
     "metadata": {},
     "output_type": "execute_result"
    }
   ],
   "source": [
    "grid_results.best_params_"
   ]
  },
  {
   "cell_type": "code",
   "execution_count": 180,
   "metadata": {},
   "outputs": [
    {
     "data": {
      "text/plain": [
       "RandomForestRegressor(bootstrap=True, criterion='mse', max_depth=None,\n",
       "                      max_features=2, max_leaf_nodes=None,\n",
       "                      min_impurity_decrease=0.0, min_impurity_split=None,\n",
       "                      min_samples_leaf=1, min_samples_split=2,\n",
       "                      min_weight_fraction_leaf=0.0, n_estimators=100,\n",
       "                      n_jobs=None, oob_score=False, random_state=None,\n",
       "                      verbose=0, warm_start=False)"
      ]
     },
     "execution_count": 180,
     "metadata": {},
     "output_type": "execute_result"
    }
   ],
   "source": [
    "grid_results.best_estimator_"
   ]
  },
  {
   "cell_type": "code",
   "execution_count": 325,
   "metadata": {},
   "outputs": [],
   "source": [
    "rf2=RandomForestRegressor(bootstrap=True, criterion='mse', max_depth=None,\n",
    "                      max_features=2, max_leaf_nodes=None,\n",
    "                      min_impurity_decrease=0.0, min_impurity_split=None,\n",
    "                      min_samples_leaf=1, min_samples_split=2,\n",
    "                      min_weight_fraction_leaf=0.0, n_estimators=100,\n",
    "                      n_jobs=None, oob_score=False, random_state=None,\n",
    "                      verbose=0, warm_start=False)"
   ]
  },
  {
   "cell_type": "code",
   "execution_count": 326,
   "metadata": {},
   "outputs": [
    {
     "data": {
      "text/plain": [
       "RandomForestRegressor(bootstrap=True, criterion='mse', max_depth=None,\n",
       "                      max_features=2, max_leaf_nodes=None,\n",
       "                      min_impurity_decrease=0.0, min_impurity_split=None,\n",
       "                      min_samples_leaf=1, min_samples_split=2,\n",
       "                      min_weight_fraction_leaf=0.0, n_estimators=100,\n",
       "                      n_jobs=None, oob_score=False, random_state=None,\n",
       "                      verbose=0, warm_start=False)"
      ]
     },
     "execution_count": 326,
     "metadata": {},
     "output_type": "execute_result"
    }
   ],
   "source": [
    "rf2.fit(xrf_train, yrf_train)"
   ]
  },
  {
   "cell_type": "code",
   "execution_count": 327,
   "metadata": {},
   "outputs": [],
   "source": [
    "yrf_train_pred2 = rf2.predict(xrf_train)\n",
    "\n",
    "yrf_test_pred2 = rf2.predict(xrf_test)"
   ]
  },
  {
   "cell_type": "code",
   "execution_count": 328,
   "metadata": {},
   "outputs": [
    {
     "data": {
      "text/plain": [
       "0.9706786545622735"
      ]
     },
     "execution_count": 328,
     "metadata": {},
     "output_type": "execute_result"
    },
    {
     "data": {
      "text/plain": [
       "0.7912607494073837"
      ]
     },
     "execution_count": 328,
     "metadata": {},
     "output_type": "execute_result"
    }
   ],
   "source": [
    "r2_score(yrf_train,yrf_train_pred2)\n",
    "r2_score(yrf_test,yrf_test_pred2)"
   ]
  },
  {
   "cell_type": "code",
   "execution_count": 329,
   "metadata": {},
   "outputs": [
    {
     "data": {
      "text/plain": [
       "4.718502800292847"
      ]
     },
     "execution_count": 329,
     "metadata": {},
     "output_type": "execute_result"
    }
   ],
   "source": [
    "np.sqrt(mean_squared_error(yrf_test,yrf_test_pred1))"
   ]
  },
  {
   "cell_type": "code",
   "execution_count": 330,
   "metadata": {},
   "outputs": [],
   "source": [
    "yrf_test_predictions2=rf2.predict(test[test_features])"
   ]
  },
  {
   "cell_type": "code",
   "execution_count": 331,
   "metadata": {},
   "outputs": [
    {
     "data": {
      "text/plain": [
       "array([12.469, 10.276,  4.908, ...,  6.493,  8.568, 11.703])"
      ]
     },
     "execution_count": 331,
     "metadata": {},
     "output_type": "execute_result"
    }
   ],
   "source": [
    "yrf_test_predictions2"
   ]
  },
  {
   "cell_type": "code",
   "execution_count": 332,
   "metadata": {},
   "outputs": [],
   "source": [
    "df2['Predicted_Values2']=yrf_test_predictions2"
   ]
  },
  {
   "cell_type": "code",
   "execution_count": 333,
   "metadata": {},
   "outputs": [
    {
     "data": {
      "text/html": [
       "<div>\n",
       "<style scoped>\n",
       "    .dataframe tbody tr th:only-of-type {\n",
       "        vertical-align: middle;\n",
       "    }\n",
       "\n",
       "    .dataframe tbody tr th {\n",
       "        vertical-align: top;\n",
       "    }\n",
       "\n",
       "    .dataframe thead th {\n",
       "        text-align: right;\n",
       "    }\n",
       "</style>\n",
       "<table border=\"1\" class=\"dataframe\">\n",
       "  <thead>\n",
       "    <tr style=\"text-align: right;\">\n",
       "      <th></th>\n",
       "      <th>Predicted_Values</th>\n",
       "      <th>Predicted_Values2</th>\n",
       "    </tr>\n",
       "  </thead>\n",
       "  <tbody>\n",
       "    <tr>\n",
       "      <td>0</td>\n",
       "      <td>12.230</td>\n",
       "      <td>12.469000</td>\n",
       "    </tr>\n",
       "    <tr>\n",
       "      <td>1</td>\n",
       "      <td>10.740</td>\n",
       "      <td>10.276000</td>\n",
       "    </tr>\n",
       "    <tr>\n",
       "      <td>2</td>\n",
       "      <td>4.820</td>\n",
       "      <td>4.908000</td>\n",
       "    </tr>\n",
       "    <tr>\n",
       "      <td>3</td>\n",
       "      <td>10.060</td>\n",
       "      <td>12.884700</td>\n",
       "    </tr>\n",
       "    <tr>\n",
       "      <td>4</td>\n",
       "      <td>12.000</td>\n",
       "      <td>12.069333</td>\n",
       "    </tr>\n",
       "    <tr>\n",
       "      <td>...</td>\n",
       "      <td>...</td>\n",
       "      <td>...</td>\n",
       "    </tr>\n",
       "    <tr>\n",
       "      <td>49995</td>\n",
       "      <td>6.060</td>\n",
       "      <td>5.420000</td>\n",
       "    </tr>\n",
       "    <tr>\n",
       "      <td>49996</td>\n",
       "      <td>27.776</td>\n",
       "      <td>29.038100</td>\n",
       "    </tr>\n",
       "    <tr>\n",
       "      <td>49997</td>\n",
       "      <td>6.600</td>\n",
       "      <td>6.493000</td>\n",
       "    </tr>\n",
       "    <tr>\n",
       "      <td>49998</td>\n",
       "      <td>8.190</td>\n",
       "      <td>8.568000</td>\n",
       "    </tr>\n",
       "    <tr>\n",
       "      <td>49999</td>\n",
       "      <td>12.920</td>\n",
       "      <td>11.703000</td>\n",
       "    </tr>\n",
       "  </tbody>\n",
       "</table>\n",
       "<p>50000 rows × 2 columns</p>\n",
       "</div>"
      ],
      "text/plain": [
       "       Predicted_Values  Predicted_Values2\n",
       "0                12.230          12.469000\n",
       "1                10.740          10.276000\n",
       "2                 4.820           4.908000\n",
       "3                10.060          12.884700\n",
       "4                12.000          12.069333\n",
       "...                 ...                ...\n",
       "49995             6.060           5.420000\n",
       "49996            27.776          29.038100\n",
       "49997             6.600           6.493000\n",
       "49998             8.190           8.568000\n",
       "49999            12.920          11.703000\n",
       "\n",
       "[50000 rows x 2 columns]"
      ]
     },
     "execution_count": 333,
     "metadata": {},
     "output_type": "execute_result"
    }
   ],
   "source": [
    "df2"
   ]
  },
  {
   "cell_type": "code",
   "execution_count": 334,
   "metadata": {},
   "outputs": [],
   "source": [
    "df5=pd.concat([df3,df2['Predicted_Values2']],axis=1)"
   ]
  },
  {
   "cell_type": "code",
   "execution_count": 335,
   "metadata": {},
   "outputs": [
    {
     "data": {
      "text/html": [
       "<div>\n",
       "<style scoped>\n",
       "    .dataframe tbody tr th:only-of-type {\n",
       "        vertical-align: middle;\n",
       "    }\n",
       "\n",
       "    .dataframe tbody tr th {\n",
       "        vertical-align: top;\n",
       "    }\n",
       "\n",
       "    .dataframe thead th {\n",
       "        text-align: right;\n",
       "    }\n",
       "</style>\n",
       "<table border=\"1\" class=\"dataframe\">\n",
       "  <thead>\n",
       "    <tr style=\"text-align: right;\">\n",
       "      <th></th>\n",
       "      <th>dropoff_longitude</th>\n",
       "      <th>pickup_longitude</th>\n",
       "      <th>dropoff_latitude</th>\n",
       "      <th>pickup_latitude</th>\n",
       "      <th>Predicted_Values2</th>\n",
       "    </tr>\n",
       "  </thead>\n",
       "  <tbody>\n",
       "    <tr>\n",
       "      <td>0</td>\n",
       "      <td>-73.947570</td>\n",
       "      <td>-73.951662</td>\n",
       "      <td>40.756220</td>\n",
       "      <td>40.790710</td>\n",
       "      <td>12.469000</td>\n",
       "    </tr>\n",
       "    <tr>\n",
       "      <td>1</td>\n",
       "      <td>-73.974075</td>\n",
       "      <td>-73.951007</td>\n",
       "      <td>40.763553</td>\n",
       "      <td>40.771508</td>\n",
       "      <td>10.276000</td>\n",
       "    </tr>\n",
       "    <tr>\n",
       "      <td>2</td>\n",
       "      <td>-73.990298</td>\n",
       "      <td>-73.996473</td>\n",
       "      <td>40.756152</td>\n",
       "      <td>40.747930</td>\n",
       "      <td>4.908000</td>\n",
       "    </tr>\n",
       "    <tr>\n",
       "      <td>3</td>\n",
       "      <td>-73.952617</td>\n",
       "      <td>-73.997934</td>\n",
       "      <td>40.727149</td>\n",
       "      <td>40.716890</td>\n",
       "      <td>12.884700</td>\n",
       "    </tr>\n",
       "    <tr>\n",
       "      <td>4</td>\n",
       "      <td>-73.906128</td>\n",
       "      <td>-73.952583</td>\n",
       "      <td>40.711281</td>\n",
       "      <td>40.714039</td>\n",
       "      <td>12.069333</td>\n",
       "    </tr>\n",
       "    <tr>\n",
       "      <td>...</td>\n",
       "      <td>...</td>\n",
       "      <td>...</td>\n",
       "      <td>...</td>\n",
       "      <td>...</td>\n",
       "      <td>...</td>\n",
       "    </tr>\n",
       "    <tr>\n",
       "      <td>49995</td>\n",
       "      <td>-73.986245</td>\n",
       "      <td>-73.993368</td>\n",
       "      <td>40.744542</td>\n",
       "      <td>40.747670</td>\n",
       "      <td>5.420000</td>\n",
       "    </tr>\n",
       "    <tr>\n",
       "      <td>49996</td>\n",
       "      <td>-73.992022</td>\n",
       "      <td>-73.885612</td>\n",
       "      <td>40.731085</td>\n",
       "      <td>40.773122</td>\n",
       "      <td>29.038100</td>\n",
       "    </tr>\n",
       "    <tr>\n",
       "      <td>49997</td>\n",
       "      <td>-73.962546</td>\n",
       "      <td>-73.962469</td>\n",
       "      <td>40.770940</td>\n",
       "      <td>40.770926</td>\n",
       "      <td>6.493000</td>\n",
       "    </tr>\n",
       "    <tr>\n",
       "      <td>49998</td>\n",
       "      <td>-74.000052</td>\n",
       "      <td>-74.012434</td>\n",
       "      <td>40.717883</td>\n",
       "      <td>40.702658</td>\n",
       "      <td>8.568000</td>\n",
       "    </tr>\n",
       "    <tr>\n",
       "      <td>49999</td>\n",
       "      <td>-73.977515</td>\n",
       "      <td>-73.996167</td>\n",
       "      <td>40.758580</td>\n",
       "      <td>40.730985</td>\n",
       "      <td>11.703000</td>\n",
       "    </tr>\n",
       "  </tbody>\n",
       "</table>\n",
       "<p>50000 rows × 5 columns</p>\n",
       "</div>"
      ],
      "text/plain": [
       "       dropoff_longitude  pickup_longitude  dropoff_latitude  pickup_latitude  \\\n",
       "0             -73.947570        -73.951662         40.756220        40.790710   \n",
       "1             -73.974075        -73.951007         40.763553        40.771508   \n",
       "2             -73.990298        -73.996473         40.756152        40.747930   \n",
       "3             -73.952617        -73.997934         40.727149        40.716890   \n",
       "4             -73.906128        -73.952583         40.711281        40.714039   \n",
       "...                  ...               ...               ...              ...   \n",
       "49995         -73.986245        -73.993368         40.744542        40.747670   \n",
       "49996         -73.992022        -73.885612         40.731085        40.773122   \n",
       "49997         -73.962546        -73.962469         40.770940        40.770926   \n",
       "49998         -74.000052        -74.012434         40.717883        40.702658   \n",
       "49999         -73.977515        -73.996167         40.758580        40.730985   \n",
       "\n",
       "       Predicted_Values2  \n",
       "0              12.469000  \n",
       "1              10.276000  \n",
       "2               4.908000  \n",
       "3              12.884700  \n",
       "4              12.069333  \n",
       "...                  ...  \n",
       "49995           5.420000  \n",
       "49996          29.038100  \n",
       "49997           6.493000  \n",
       "49998           8.568000  \n",
       "49999          11.703000  \n",
       "\n",
       "[50000 rows x 5 columns]"
      ]
     },
     "execution_count": 335,
     "metadata": {},
     "output_type": "execute_result"
    }
   ],
   "source": [
    "df5"
   ]
  },
  {
   "cell_type": "code",
   "execution_count": 336,
   "metadata": {},
   "outputs": [],
   "source": [
    "df5.to_csv('file2')"
   ]
  },
  {
   "cell_type": "code",
   "execution_count": null,
   "metadata": {},
   "outputs": [],
   "source": []
  },
  {
   "cell_type": "markdown",
   "metadata": {},
   "source": [
    "### Model with Ada Boost"
   ]
  },
  {
   "cell_type": "code",
   "execution_count": 167,
   "metadata": {},
   "outputs": [],
   "source": [
    "from sklearn.ensemble import GradientBoostingRegressor"
   ]
  },
  {
   "cell_type": "code",
   "execution_count": 168,
   "metadata": {},
   "outputs": [],
   "source": [
    "ada=GradientBoostingRegressor(random_state=0)"
   ]
  },
  {
   "cell_type": "code",
   "execution_count": 169,
   "metadata": {},
   "outputs": [
    {
     "data": {
      "text/plain": [
       "GradientBoostingRegressor(alpha=0.9, criterion='friedman_mse', init=None,\n",
       "                          learning_rate=0.1, loss='ls', max_depth=3,\n",
       "                          max_features=None, max_leaf_nodes=None,\n",
       "                          min_impurity_decrease=0.0, min_impurity_split=None,\n",
       "                          min_samples_leaf=1, min_samples_split=2,\n",
       "                          min_weight_fraction_leaf=0.0, n_estimators=100,\n",
       "                          n_iter_no_change=None, presort='auto', random_state=0,\n",
       "                          subsample=1.0, tol=0.0001, validation_fraction=0.1,\n",
       "                          verbose=0, warm_start=False)"
      ]
     },
     "execution_count": 169,
     "metadata": {},
     "output_type": "execute_result"
    }
   ],
   "source": [
    "ada.fit(x_train, y_train)"
   ]
  },
  {
   "cell_type": "code",
   "execution_count": 170,
   "metadata": {},
   "outputs": [],
   "source": [
    "yad_train_pred1 = ada.predict(x_train)\n",
    "\n",
    "yad_test_pred1 = ada.predict(x_test)"
   ]
  },
  {
   "cell_type": "code",
   "execution_count": 171,
   "metadata": {},
   "outputs": [
    {
     "data": {
      "text/plain": [
       "0.756381326887718"
      ]
     },
     "execution_count": 171,
     "metadata": {},
     "output_type": "execute_result"
    },
    {
     "data": {
      "text/plain": [
       "0.7350536330945346"
      ]
     },
     "execution_count": 171,
     "metadata": {},
     "output_type": "execute_result"
    }
   ],
   "source": [
    "r2_score(y_train,yad_train_pred1)\n",
    "r2_score(y_test,yad_test_pred1)"
   ]
  },
  {
   "cell_type": "code",
   "execution_count": 172,
   "metadata": {},
   "outputs": [
    {
     "data": {
      "text/plain": [
       "4.678679583886928"
      ]
     },
     "execution_count": 172,
     "metadata": {},
     "output_type": "execute_result"
    }
   ],
   "source": [
    "np.sqrt(mean_squared_error(yrf_test,yrf_test_pred1))"
   ]
  },
  {
   "cell_type": "markdown",
   "metadata": {},
   "source": [
    "**_Model with RandomForest is giving the best r2_score_**"
   ]
  },
  {
   "cell_type": "code",
   "execution_count": 338,
   "metadata": {},
   "outputs": [],
   "source": [
    "import xgboost as xgb # pip install xgboost\n",
    "from xgboost.sklearn import XGBRegressor"
   ]
  },
  {
   "cell_type": "code",
   "execution_count": 339,
   "metadata": {},
   "outputs": [],
   "source": [
    "XGB1=XGBRegressor(random_state=0)"
   ]
  },
  {
   "cell_type": "code",
   "execution_count": 340,
   "metadata": {},
   "outputs": [
    {
     "data": {
      "text/plain": [
       "XGBRegressor(base_score=0.5, booster='gbtree', colsample_bylevel=1,\n",
       "             colsample_bynode=1, colsample_bytree=1, gamma=0, gpu_id=-1,\n",
       "             importance_type='gain', interaction_constraints='',\n",
       "             learning_rate=0.300000012, max_delta_step=0, max_depth=6,\n",
       "             min_child_weight=1, missing=nan, monotone_constraints='()',\n",
       "             n_estimators=100, n_jobs=0, num_parallel_tree=1,\n",
       "             objective='reg:squarederror', random_state=0, reg_alpha=0,\n",
       "             reg_lambda=1, scale_pos_weight=1, subsample=1, tree_method='exact',\n",
       "             validate_parameters=1, verbosity=None)"
      ]
     },
     "execution_count": 340,
     "metadata": {},
     "output_type": "execute_result"
    }
   ],
   "source": [
    "XGB1.fit(x_train, y_train)"
   ]
  },
  {
   "cell_type": "code",
   "execution_count": 342,
   "metadata": {},
   "outputs": [],
   "source": [
    "yad_train_pred2 = XGB1.predict(x_train)\n",
    "\n",
    "yad_test_pred2 = XGB1.predict(x_test)"
   ]
  },
  {
   "cell_type": "code",
   "execution_count": 343,
   "metadata": {},
   "outputs": [
    {
     "data": {
      "text/plain": [
       "0.8696497179164301"
      ]
     },
     "execution_count": 343,
     "metadata": {},
     "output_type": "execute_result"
    },
    {
     "data": {
      "text/plain": [
       "0.7801685100907884"
      ]
     },
     "execution_count": 343,
     "metadata": {},
     "output_type": "execute_result"
    }
   ],
   "source": [
    "r2_score(y_train,yad_train_pred2)\n",
    "r2_score(y_test,yad_test_pred2)"
   ]
  },
  {
   "cell_type": "code",
   "execution_count": 344,
   "metadata": {},
   "outputs": [
    {
     "data": {
      "text/plain": [
       "4.443732448629403"
      ]
     },
     "execution_count": 344,
     "metadata": {},
     "output_type": "execute_result"
    }
   ],
   "source": [
    "np.sqrt(mean_squared_error(y_test,yrf_test_pred2))"
   ]
  },
  {
   "cell_type": "code",
   "execution_count": null,
   "metadata": {},
   "outputs": [],
   "source": []
  }
 ],
 "metadata": {
  "kernelspec": {
   "display_name": "Python 3",
   "language": "python",
   "name": "python3"
  },
  "language_info": {
   "codemirror_mode": {
    "name": "ipython",
    "version": 3
   },
   "file_extension": ".py",
   "mimetype": "text/x-python",
   "name": "python",
   "nbconvert_exporter": "python",
   "pygments_lexer": "ipython3",
   "version": "3.7.4"
  }
 },
 "nbformat": 4,
 "nbformat_minor": 2
}
